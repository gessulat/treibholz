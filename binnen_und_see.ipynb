{
 "cells": [
  {
   "cell_type": "code",
   "execution_count": 55,
   "id": "1b0607ff-f7c8-4005-a03d-010a4e92c67a",
   "metadata": {},
   "outputs": [],
   "source": [
    "import re\n",
    "from dataclasses import dataclass\n",
    "import trafilatura\n",
    "\n",
    "\n",
    "@dataclass\n",
    "class Question:\n",
    "    id: int\n",
    "    topic: str\n",
    "    question: str\n",
    "    answer_a: str\n",
    "    answer_b: str\n",
    "    answer_c: str\n",
    "    answer_d: str\n",
    "\n",
    "def parse_single_question(block: str, topic: str) -> Question:\n",
    "    # Find the question id\n",
    "    m = re.match(r\"\\s*(\\d+)\\.\\s*\", block)\n",
    "    if not m:\n",
    "        raise ValueError(f\"Invalid question block (no id):\\n{block}\")\n",
    "    qid = int(m.group(1))\n",
    "    rest = block[m.end():]\n",
    "\n",
    "    # Split rest at the first line starting with '- '\n",
    "    lines = rest.splitlines()\n",
    "    question_lines = []\n",
    "    answer_lines = []\n",
    "    in_answers = False\n",
    "    for line in lines:\n",
    "        if line.strip().startswith('- '):\n",
    "            in_answers = True\n",
    "            answer_lines.append(line.strip())\n",
    "        elif in_answers and line.strip() == '':\n",
    "            continue\n",
    "        elif in_answers:\n",
    "            answer_lines[-1] += ' ' + line.strip()\n",
    "        else:\n",
    "            question_lines.append(line.strip())\n",
    "\n",
    "    # Join the question lines and fix any artifacts\n",
    "    question = ' '.join(q for q in question_lines if q)\n",
    "    question = re.sub(r'\\s+', ' ', question).strip()\n",
    "    # Parse first four answers\n",
    "    ans_list = []\n",
    "    for ans in answer_lines:\n",
    "        if ans.startswith('- '):\n",
    "            ans_list.append(ans[2:].strip())\n",
    "        if len(ans_list) == 4:\n",
    "            break\n",
    "    if len(ans_list) != 4:\n",
    "        raise ValueError(f\"Not 4 answers in:\\n{block}\")\n",
    "    return Question(\n",
    "        id=qid,\n",
    "        topic=topic,\n",
    "        question=question,\n",
    "        answer_a=ans_list[0],\n",
    "        answer_b=ans_list[1],\n",
    "        answer_c=ans_list[2],\n",
    "        answer_d=ans_list[3]\n",
    "    )\n",
    "\n",
    "\n",
    "def get_blocks(markdown: str) -> list:\n",
    "    match = re.search(r'^\\d+\\.', markdown, re.MULTILINE)\n",
    "    if not match:\n",
    "        return []\n",
    "    start = match.start()\n",
    "    questions_text = markdown[start:]\n",
    "    blocks = re.split(r'(?=^\\d+\\.\\s)', questions_text, flags=re.MULTILINE)\n",
    "    blocks = [b.strip() for b in blocks if b.strip()]\n",
    "    return blocks\n",
    "\n",
    "def parse_questions(markdown: str, topic: str) -> list:\n",
    "    blocks = get_blocks(markdown)\n",
    "    return [parse_single_question(block, topic) for block in blocks]\n",
    "\n",
    "def read_elwis(url: str, topic: str) -> list:\n",
    "    downloaded = trafilatura.fetch_url(url)\n",
    "    markdown = trafilatura.extract(downloaded, output_format='markdown', include_tables=True)\n",
    "    questions = parse_questions(markdown, topic)\n",
    "    return questions\n"
   ]
  },
  {
   "cell_type": "markdown",
   "id": "884a7d6e-4efa-4c58-89e7-28ab8fc76210",
   "metadata": {},
   "source": [
    "# Binnen"
   ]
  },
  {
   "cell_type": "code",
   "execution_count": 56,
   "id": "bc1b7e55-cf19-4c45-8745-4e16856f9630",
   "metadata": {},
   "outputs": [],
   "source": [
    "url = 'https://www.elwis.de/DE/Sportschifffahrt/Sportbootfuehrerscheine/Fragenkatalog-Binnen/Spezifische-Fragen-Segeln/Spezifische-Fragen-Segeln-node.html'\n",
    "questions_binnen_segeln = read_elwis(url, topic=\"Binnen Segeln\")"
   ]
  },
  {
   "cell_type": "code",
   "execution_count": 57,
   "id": "af37d270-4226-41f7-826f-c0bb50a558f6",
   "metadata": {},
   "outputs": [],
   "source": [
    "url = \"https://www.elwis.de/DE/Sportschifffahrt/Sportbootfuehrerscheine/Fragenkatalog-Binnen/Basisfragen/Basisfragen-node.html\"\n",
    "questions_binnen_basis = read_elwis(url, topic=\"Binnen Basisfragen\")"
   ]
  },
  {
   "cell_type": "code",
   "execution_count": 59,
   "id": "17539035-3813-4cab-acbd-22653071e230",
   "metadata": {},
   "outputs": [],
   "source": [
    "url = \"https://www.elwis.de/DE/Sportschifffahrt/Sportbootfuehrerscheine/Fragenkatalog-Binnen/Spezifische-Fragen-Binnen/Spezifische-Fragen-Binnen-node.html\"\n",
    "questions_binnen_spezifisch = read_elwis(url, topic=\"Binnen Spezifische Fragen\")"
   ]
  },
  {
   "cell_type": "markdown",
   "id": "b296cc15-4ea6-412a-8ef0-7de7e6e6ba35",
   "metadata": {},
   "source": [
    "# See"
   ]
  },
  {
   "cell_type": "code",
   "execution_count": 43,
   "id": "a652832b-42c3-4623-a81f-4325eb0e8ce0",
   "metadata": {},
   "outputs": [],
   "source": [
    "url = 'https://www.elwis.de/DE/Sportschifffahrt/Sportbootfuehrerscheine/Fragenkatalog-See/Basisfragen/Basisfragen-node.html'\n",
    "questions_see_basis = read_elwis(url, \"See Basisfragen\")"
   ]
  },
  {
   "cell_type": "code",
   "execution_count": 60,
   "id": "e8e59ea0-95f2-40b5-b983-9584cab12782",
   "metadata": {},
   "outputs": [],
   "source": [
    "url = 'https://www.elwis.de/DE/Sportschifffahrt/Sportbootfuehrerscheine/Fragenkatalog-See/Spezifische-Fragen-See/Spezifische-Fragen-See-node.html'\n",
    "questions_see_spezifisch = read_elwis(url, \"See Spezifische Fragen\")"
   ]
  },
  {
   "cell_type": "code",
   "execution_count": 61,
   "id": "39a78110-e705-4dfc-9b68-bdfd1ae77a43",
   "metadata": {},
   "outputs": [
    {
     "data": {
      "text/plain": [
       "Question(id=73, topic='See Spezifische Fragen', question='Wo gelten die Kollisionsverhütungsregeln (KVR)?', answer_a='Auf der Hohen See und auf den mit dieser zusammenhängenden, von Seeschiffen befahrbaren Gewässern.', answer_b='Auf der Hohen See und den deutschen Seeschifffahrtsstraßen, die von Seeschiffen befahren werden.', answer_c='Auf den Seeschifffahrtsstraßen und den küstennahen deutschen Seegewässern, die von Seeschiffen befahren werden.', answer_d='Auf der Hohen See und den von Seeschiffen befahrbaren Randmeeren, mit Ausnahme der Verkehrstrennungsgebiete.')"
      ]
     },
     "execution_count": 61,
     "metadata": {},
     "output_type": "execute_result"
    }
   ],
   "source": [
    "questions_see_spezifisch[0]"
   ]
  },
  {
   "cell_type": "code",
   "execution_count": 62,
   "id": "6fa55bbb-8cc1-402a-867f-46eecbe03186",
   "metadata": {},
   "outputs": [
    {
     "data": {
      "text/plain": [
       "Question(id=285, topic='See Spezifische Fragen', question='Was bedeutet auf einem Schiff eines der folgenden Signale?', answer_a='Fahrzeug in Seenot.', answer_b='Fahrzeug ist manövrierbehindert.', answer_c='Fahrzeug mit gefährlichen Gütern.', answer_d='Fahrzeug vor Anker mit mehr als 100 m Länge. Stand: 01. August 2023')"
      ]
     },
     "execution_count": 62,
     "metadata": {},
     "output_type": "execute_result"
    }
   ],
   "source": [
    "questions_see_spezifisch[-1]"
   ]
  },
  {
   "cell_type": "markdown",
   "id": "8997b9e7-4ee3-437d-a4f6-3f9b18f531f5",
   "metadata": {},
   "source": [
    "# Speech syntehsis"
   ]
  },
  {
   "cell_type": "code",
   "execution_count": 64,
   "id": "97147c57-a56a-4674-95d4-07ca8fa9d7e2",
   "metadata": {},
   "outputs": [
    {
     "name": "stdout",
     "output_type": "stream",
     "text": [
      "\n",
      "Frage 285 - See Spezifische Fragen.\n",
      "\n",
      "Was bedeutet auf einem Schiff eines der folgenden Signale?\n",
      "\n",
      "Antwort A: Fahrzeug in Seenot.\n",
      "\n",
      "Antwort B: Fahrzeug ist manövrierbehindert.\n",
      "\n",
      "Antwort C: Fahrzeug mit gefährlichen Gütern.\n",
      "\n",
      "Antwort D: Fahrzeug vor Anker mit mehr als 100 m Länge. Stand: 01. August 2023\n",
      "\n",
      "Die richtige Antwort ist Antwort A: Fahrzeug in Seenot.\n",
      "    \n"
     ]
    }
   ],
   "source": [
    "def question_to_text(question: Question) -> str:\n",
    "    txt = f\"\"\"\n",
    "Frage {question.id} - {question.topic}.\n",
    "\n",
    "{question.question}\n",
    "\n",
    "Antwort A: {question.answer_a}\n",
    "\n",
    "Antwort B: {question.answer_b}\n",
    "\n",
    "Antwort C: {question.answer_c}\n",
    "\n",
    "Antwort D: {question.answer_d}\n",
    "\n",
    "Die richtige Antwort ist Antwort A: {question.answer_a}\n",
    "    \"\"\"\n",
    "    return txt\n",
    "\n",
    "txt = question_to_text(questions_see_spezifisch[-1])\n",
    "print(txt)"
   ]
  },
  {
   "cell_type": "code",
   "execution_count": 65,
   "id": "3cdbeeab-9765-4e1a-8e31-6cd65f882b6f",
   "metadata": {},
   "outputs": [
    {
     "ename": "ValueError",
     "evalue": "Invalid format specifier ' \"LINEAR16\",\n    \"effectsProfileId\": [\n      \"headphone-class-device\"\n    ],\n    \"pitch\": 0,\n    \"speakingRate\": 1\n  ' for object of type 'str'",
     "output_type": "error",
     "traceback": [
      "\u001b[31m---------------------------------------------------------------------------\u001b[39m",
      "\u001b[31mValueError\u001b[39m                                Traceback (most recent call last)",
      "\u001b[36mCell\u001b[39m\u001b[36m \u001b[39m\u001b[32mIn[65]\u001b[39m\u001b[32m, line 3\u001b[39m\n\u001b[32m      1\u001b[39m JSON_TEMPLATE = \u001b[33mf\u001b[39m\u001b[33m\"\"\"\u001b[39m\n\u001b[32m      2\u001b[39m \u001b[38;5;132;01m{\u001b[39;00m\n\u001b[32m----> \u001b[39m\u001b[32m3\u001b[39m \u001b[38;5;250m  \u001b[39m\u001b[33m\"\u001b[39m\u001b[33maudioConfig\u001b[39m\u001b[33m\"\u001b[39m\u001b[38;5;132;01m:\u001b[39;00m\u001b[33m \u001b[39m\u001b[38;5;132;43;01m{\u001b[39;49;00m\n\u001b[32m      4\u001b[39m \u001b[38;5;250;43m    \u001b[39;49m\u001b[33;43m\"\u001b[39;49m\u001b[33;43maudioEncoding\u001b[39;49m\u001b[33;43m\"\u001b[39;49m\u001b[38;5;132;43;01m:\u001b[39;49;00m\u001b[33;43m \u001b[39;49m\u001b[33;43m\"\u001b[39;49m\u001b[33;43mLINEAR16\u001b[39;49m\u001b[33;43m\"\u001b[39;49m\u001b[33;43m,\u001b[39;49m\n\u001b[32m      5\u001b[39m \u001b[33;43m    \u001b[39;49m\u001b[33;43m\"\u001b[39;49m\u001b[33;43meffectsProfileId\u001b[39;49m\u001b[33;43m\"\u001b[39;49m\u001b[33;43m: [\u001b[39;49m\n\u001b[32m      6\u001b[39m \u001b[33;43m      \u001b[39;49m\u001b[33;43m\"\u001b[39;49m\u001b[33;43mheadphone-class-device\u001b[39;49m\u001b[33;43m\"\u001b[39;49m\n\u001b[32m      7\u001b[39m \u001b[33;43m    ],\u001b[39;49m\n\u001b[32m      8\u001b[39m \u001b[33;43m    \u001b[39;49m\u001b[33;43m\"\u001b[39;49m\u001b[33;43mpitch\u001b[39;49m\u001b[33;43m\"\u001b[39;49m\u001b[33;43m: 0,\u001b[39;49m\n\u001b[32m      9\u001b[39m \u001b[33;43m    \u001b[39;49m\u001b[33;43m\"\u001b[39;49m\u001b[33;43mspeakingRate\u001b[39;49m\u001b[33;43m\"\u001b[39;49m\u001b[33;43m: 1\u001b[39;49m\n\u001b[32m     10\u001b[39m \u001b[33;43m  \u001b[39;49m\u001b[38;5;132;43;01m}\u001b[39;49;00m\u001b[33m,\u001b[39m\n\u001b[32m     11\u001b[39m \u001b[33m  \u001b[39m\u001b[33m\"\u001b[39m\u001b[33minput\u001b[39m\u001b[33m\"\u001b[39m\u001b[33m: \u001b[39m\u001b[38;5;132;01m{\u001b[39;00m\n\u001b[32m     12\u001b[39m \u001b[38;5;250m    \u001b[39m\u001b[33m\"\u001b[39m\u001b[33mtext\u001b[39m\u001b[33m\"\u001b[39m\u001b[38;5;132;01m:\u001b[39;00m\u001b[33m \u001b[39m\u001b[33m\"\u001b[39m\u001b[38;5;132;01m{\u001b[39;00mtxt\u001b[38;5;132;01m}\u001b[39;00m\u001b[33m\"\u001b[39m\n\u001b[32m     13\u001b[39m \u001b[33m  \u001b[39m\u001b[38;5;132;01m}\u001b[39;00m\u001b[33m,\u001b[39m\n\u001b[32m     14\u001b[39m \u001b[33m  \u001b[39m\u001b[33m\"\u001b[39m\u001b[33mvoice\u001b[39m\u001b[33m\"\u001b[39m\u001b[33m: \u001b[39m\u001b[38;5;132;01m{\u001b[39;00m\n\u001b[32m     15\u001b[39m \u001b[38;5;250m    \u001b[39m\u001b[33m\"\u001b[39m\u001b[33mlanguageCode\u001b[39m\u001b[33m\"\u001b[39m\u001b[38;5;132;01m:\u001b[39;00m\u001b[33m \u001b[39m\u001b[33m\"\u001b[39m\u001b[33mde-DE\u001b[39m\u001b[33m\"\u001b[39m\u001b[33m,\u001b[39m\n\u001b[32m     16\u001b[39m \u001b[33m    \u001b[39m\u001b[33m\"\u001b[39m\u001b[33mname\u001b[39m\u001b[33m\"\u001b[39m\u001b[33m: \u001b[39m\u001b[33m\"\u001b[39m\u001b[33mde-DE-Chirp3-HD-Enceladus\u001b[39m\u001b[33m\"\u001b[39m\n\u001b[32m     17\u001b[39m \u001b[33m  \u001b[39m\u001b[38;5;132;01m}\u001b[39;00m\n\u001b[32m     18\u001b[39m \u001b[38;5;132;01m}\u001b[39;00m\n\u001b[32m     19\u001b[39m \u001b[33m\"\"\"\u001b[39m\n",
      "\u001b[31mValueError\u001b[39m: Invalid format specifier ' \"LINEAR16\",\n    \"effectsProfileId\": [\n      \"headphone-class-device\"\n    ],\n    \"pitch\": 0,\n    \"speakingRate\": 1\n  ' for object of type 'str'"
     ]
    }
   ],
   "source": [
    "JSON_TEMPLATE = f\"\"\"\n",
    "{\n",
    "  \"audioConfig\": {\n",
    "    \"audioEncoding\": \"LINEAR16\",\n",
    "    \"effectsProfileId\": [\n",
    "      \"headphone-class-device\"\n",
    "    ],\n",
    "    \"pitch\": 0,\n",
    "    \"speakingRate\": 1\n",
    "  },\n",
    "  \"input\": {\n",
    "    \"text\": \"{txt}\"\n",
    "  },\n",
    "  \"voice\": {\n",
    "    \"languageCode\": \"de-DE\",\n",
    "    \"name\": \"de-DE-Chirp3-HD-Enceladus\"\n",
    "  }\n",
    "}\n",
    "\"\"\""
   ]
  },
  {
   "cell_type": "code",
   "execution_count": null,
   "id": "fec75f9a-feff-458d-907c-2df8893000e7",
   "metadata": {},
   "outputs": [],
   "source": []
  }
 ],
 "metadata": {
  "kernelspec": {
   "display_name": "Python 3 (ipykernel)",
   "language": "python",
   "name": "python3"
  },
  "language_info": {
   "codemirror_mode": {
    "name": "ipython",
    "version": 3
   },
   "file_extension": ".py",
   "mimetype": "text/x-python",
   "name": "python",
   "nbconvert_exporter": "python",
   "pygments_lexer": "ipython3",
   "version": "3.12.5"
  }
 },
 "nbformat": 4,
 "nbformat_minor": 5
}
